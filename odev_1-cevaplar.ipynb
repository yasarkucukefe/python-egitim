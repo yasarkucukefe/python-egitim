{
 "cells": [
  {
   "cell_type": "markdown",
   "metadata": {
    "deletable": false,
    "editable": false
   },
   "source": [
    "## Python Kodlama Eğitimi"
   ]
  },
  {
   "cell_type": "markdown",
   "metadata": {
    "deletable": false,
    "editable": false
   },
   "source": [
    "## Ödev-1\n",
    "\n",
    "##### Cevaplarınızı Python kod hücrelerine yazınız.\n",
    "\n",
    "Cevaplarınızı yazdıktan sonra dosyayı kayıt ediniz ve yasar.kucukefe@gmail.com e-posta adresine gönderiniz.\n",
    "\n",
    "#### Son teslim tarihi 14 Eylül 2020"
   ]
  },
  {
   "cell_type": "markdown",
   "metadata": {
    "deletable": false,
    "editable": false
   },
   "source": [
    "SORU-1: \n",
    "\n",
    "12 üzeri 4'ü python kodu yazarak hesaplayınız."
   ]
  },
  {
   "cell_type": "code",
   "execution_count": 1,
   "metadata": {
    "deletable": false
   },
   "outputs": [
    {
     "data": {
      "text/plain": [
       "20736"
      ]
     },
     "execution_count": 1,
     "metadata": {},
     "output_type": "execute_result"
    }
   ],
   "source": [
    "12**4"
   ]
  },
  {
   "cell_type": "markdown",
   "metadata": {
    "deletable": false,
    "editable": false
   },
   "source": [
    "SORU-2\n",
    "\n",
    "s = \"Yağmurlu bir gündü ve şemsiyemi evde unutmuştum\"\n",
    "\n",
    "Verilen s String'ini Python list'ine dönüştürünüz."
   ]
  },
  {
   "cell_type": "code",
   "execution_count": 2,
   "metadata": {
    "deletable": false,
    "editable": false
   },
   "outputs": [],
   "source": [
    "s = \"Yağmurlu bir gündü ve şemsiyemi evde unutmuştum\""
   ]
  },
  {
   "cell_type": "code",
   "execution_count": 3,
   "metadata": {
    "deletable": false
   },
   "outputs": [
    {
     "name": "stdout",
     "output_type": "stream",
     "text": [
      "['Yağmurlu', 'bir', 'gündü', 've', 'şemsiyemi', 'evde', 'unutmuştum']\n"
     ]
    }
   ],
   "source": [
    "print(s.split())"
   ]
  },
  {
   "cell_type": "markdown",
   "metadata": {
    "deletable": false,
    "editable": false
   },
   "source": [
    "SORU-3\n",
    "\n",
    "gezegen ve cap değişkenlerini kullanarak şu şekilde bir çıktı üretiniz:\n",
    "   \n",
    "   Dünya'nın çapı 12472 kilometredir."
   ]
  },
  {
   "cell_type": "code",
   "execution_count": 4,
   "metadata": {
    "deletable": false,
    "editable": false
   },
   "outputs": [],
   "source": [
    "gezegen = \"Dünya\"\n",
    "cap = 12472"
   ]
  },
  {
   "cell_type": "code",
   "execution_count": 5,
   "metadata": {
    "deletable": false
   },
   "outputs": [
    {
     "name": "stdout",
     "output_type": "stream",
     "text": [
      "Dünya'nın çapı 12472 kilometredir\n"
     ]
    }
   ],
   "source": [
    "#cevabınızı bu hücreye yazınız ve Shift+Enter ile kontrol ediniz.\n",
    "print(\"{}'nın çapı {} kilometredir\".format(gezegen,cap))"
   ]
  },
  {
   "cell_type": "markdown",
   "metadata": {
    "deletable": false,
    "editable": false
   },
   "source": [
    "SORU-4:\n",
    "\n",
    "lst listesinde uygun indeksleri kullanarak \"Merhaba\" çıktısı üretiniz."
   ]
  },
  {
   "cell_type": "code",
   "execution_count": 7,
   "metadata": {
    "deletable": false,
    "editable": false
   },
   "outputs": [],
   "source": [
    "lst = [1,2,[3,4],[5,[100,200,['Merhaba']],23,11],1,7]"
   ]
  },
  {
   "cell_type": "code",
   "execution_count": 16,
   "metadata": {
    "deletable": false
   },
   "outputs": [
    {
     "name": "stdout",
     "output_type": "stream",
     "text": [
      "Merhaba\n"
     ]
    }
   ],
   "source": [
    "print(lst[-3][1][2][0])"
   ]
  },
  {
   "cell_type": "markdown",
   "metadata": {
    "deletable": false,
    "editable": false
   },
   "source": [
    "SORU-5:\n",
    "\n",
    "Kendisine gönderilen bir e-posta adresinin domain kısmını (email@gmail.com => gmail.com) return eden bir fonksiyon yazınız. Fonksiyon adı getDomain olmalı. "
   ]
  },
  {
   "cell_type": "code",
   "execution_count": 22,
   "metadata": {
    "deletable": false
   },
   "outputs": [],
   "source": [
    "#getDomain fonksiyonunu bu hücreye yazınız ve Shift+Enter ile çalıştırınız.\n",
    "def getDomain(eposta):\n",
    "    return eposta.split(\"@\")[1]"
   ]
  },
  {
   "cell_type": "code",
   "execution_count": 23,
   "metadata": {
    "deletable": false,
    "editable": false
   },
   "outputs": [
    {
     "data": {
      "text/plain": [
       "'gmail.com'"
      ]
     },
     "execution_count": 23,
     "metadata": {},
     "output_type": "execute_result"
    }
   ],
   "source": [
    "getDomain(\"email@gmail.com\")"
   ]
  },
  {
   "cell_type": "markdown",
   "metadata": {
    "deletable": false,
    "editable": false
   },
   "source": [
    "SORU-6:\n",
    "\n",
    "filter() fonksiyonunu bir lambda ifadesinde kullanarak verilen listede 'e' ile başlayan kelimelerin çıktısını üretiniz.\n",
    "\n",
    "ipucu: list(filter(lambda kelime: kelime[?]==?, ????))"
   ]
  },
  {
   "cell_type": "code",
   "execution_count": 26,
   "metadata": {
    "deletable": false,
    "editable": false
   },
   "outputs": [],
   "source": [
    "liste=['elma','portakal','erik','üzüm','domates']"
   ]
  },
  {
   "cell_type": "code",
   "execution_count": 28,
   "metadata": {
    "deletable": false
   },
   "outputs": [
    {
     "data": {
      "text/plain": [
       "['elma', 'erik']"
      ]
     },
     "execution_count": 28,
     "metadata": {},
     "output_type": "execute_result"
    }
   ],
   "source": [
    "list(filter(lambda x: x[0]=='e', liste))"
   ]
  },
  {
   "cell_type": "code",
   "execution_count": null,
   "metadata": {},
   "outputs": [],
   "source": [
    "print([i for i in liste if i[0]==\"e\"])"
   ]
  },
  {
   "cell_type": "markdown",
   "metadata": {
    "deletable": false,
    "editable": false
   },
   "source": [
    "Cevaplarınızı yazdıktan sonra dosyayı kayıt ediniz ve yasar.kucukefe@gmail.com e-posta adresine gönderiniz."
   ]
  }
 ],
 "metadata": {
  "kernelspec": {
   "display_name": "Python [conda root]",
   "language": "python",
   "name": "conda-root-py"
  },
  "language_info": {
   "codemirror_mode": {
    "name": "ipython",
    "version": 3
   },
   "file_extension": ".py",
   "mimetype": "text/x-python",
   "name": "python",
   "nbconvert_exporter": "python",
   "pygments_lexer": "ipython3",
   "version": "3.5.6"
  }
 },
 "nbformat": 4,
 "nbformat_minor": 2
}
